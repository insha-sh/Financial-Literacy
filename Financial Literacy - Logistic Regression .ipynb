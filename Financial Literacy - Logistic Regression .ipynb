{
 "cells": [
  {
   "cell_type": "markdown",
   "id": "2fb7f464",
   "metadata": {},
   "source": [
    "# Logistic Regression on Student Data"
   ]
  },
  {
   "cell_type": "markdown",
   "id": "fa11bea8",
   "metadata": {},
   "source": [
    "## Data Preprocessing"
   ]
  },
  {
   "cell_type": "markdown",
   "id": "ac0fe641",
   "metadata": {},
   "source": [
    "### Importing the Libraries"
   ]
  },
  {
   "cell_type": "code",
   "execution_count": 1,
   "id": "765e6fc9",
   "metadata": {},
   "outputs": [],
   "source": [
    "import pandas as pd\n",
    "import numpy as np\n",
    "import matplotlib.pyplot as plt\n",
    "import seaborn as sns"
   ]
  },
  {
   "cell_type": "markdown",
   "id": "627e2302",
   "metadata": {},
   "source": [
    "### Importing the Dataset"
   ]
  },
  {
   "cell_type": "code",
   "execution_count": 2,
   "id": "9108f150",
   "metadata": {},
   "outputs": [],
   "source": [
    "df = pd.read_excel('Full_Data.xlsx')\n",
    "\n",
    "#Selecting Student Data\n",
    "sdf = df[df['STU_NON'] == \"STU\"]"
   ]
  },
  {
   "cell_type": "code",
   "execution_count": 3,
   "id": "86c0b70b",
   "metadata": {},
   "outputs": [
    {
     "data": {
      "text/html": [
       "<div>\n",
       "<style scoped>\n",
       "    .dataframe tbody tr th:only-of-type {\n",
       "        vertical-align: middle;\n",
       "    }\n",
       "\n",
       "    .dataframe tbody tr th {\n",
       "        vertical-align: top;\n",
       "    }\n",
       "\n",
       "    .dataframe thead th {\n",
       "        text-align: right;\n",
       "    }\n",
       "</style>\n",
       "<table border=\"1\" class=\"dataframe\">\n",
       "  <thead>\n",
       "    <tr style=\"text-align: right;\">\n",
       "      <th></th>\n",
       "      <th>AGE</th>\n",
       "      <th>GUIDANCE</th>\n",
       "      <th>FAMILY_SCORE</th>\n",
       "      <th>PEER_SCORE</th>\n",
       "      <th>PERSONAL_INVESTMENT_SCORE</th>\n",
       "      <th>INV_GUIDE_EXPERTS</th>\n",
       "      <th>EMERG_FUND</th>\n",
       "      <th>GEN_PER_FIN_SCORE</th>\n",
       "      <th>SAV_SCORE</th>\n",
       "      <th>INSUR_SCORE</th>\n",
       "      <th>INV_SCORE</th>\n",
       "      <th>TOTAL_SCORE</th>\n",
       "      <th>PERCENT_SCORE</th>\n",
       "    </tr>\n",
       "  </thead>\n",
       "  <tbody>\n",
       "    <tr>\n",
       "      <th>count</th>\n",
       "      <td>118.000000</td>\n",
       "      <td>118.000000</td>\n",
       "      <td>118.000000</td>\n",
       "      <td>118.000000</td>\n",
       "      <td>118.000000</td>\n",
       "      <td>118.000000</td>\n",
       "      <td>118.000000</td>\n",
       "      <td>118.000000</td>\n",
       "      <td>118.000000</td>\n",
       "      <td>118.000000</td>\n",
       "      <td>118.000000</td>\n",
       "      <td>118.000000</td>\n",
       "      <td>118.000000</td>\n",
       "    </tr>\n",
       "    <tr>\n",
       "      <th>mean</th>\n",
       "      <td>20.330508</td>\n",
       "      <td>0.330508</td>\n",
       "      <td>12.127119</td>\n",
       "      <td>10.211864</td>\n",
       "      <td>3.533898</td>\n",
       "      <td>0.347458</td>\n",
       "      <td>0.601695</td>\n",
       "      <td>3.932203</td>\n",
       "      <td>5.211864</td>\n",
       "      <td>1.703390</td>\n",
       "      <td>2.576271</td>\n",
       "      <td>13.423729</td>\n",
       "      <td>0.536949</td>\n",
       "    </tr>\n",
       "    <tr>\n",
       "      <th>std</th>\n",
       "      <td>1.496749</td>\n",
       "      <td>0.472402</td>\n",
       "      <td>6.174869</td>\n",
       "      <td>5.906467</td>\n",
       "      <td>2.319307</td>\n",
       "      <td>0.478193</td>\n",
       "      <td>0.491637</td>\n",
       "      <td>1.412574</td>\n",
       "      <td>1.875855</td>\n",
       "      <td>1.015347</td>\n",
       "      <td>1.081363</td>\n",
       "      <td>3.738016</td>\n",
       "      <td>0.149521</td>\n",
       "    </tr>\n",
       "    <tr>\n",
       "      <th>min</th>\n",
       "      <td>16.000000</td>\n",
       "      <td>0.000000</td>\n",
       "      <td>0.000000</td>\n",
       "      <td>0.000000</td>\n",
       "      <td>0.000000</td>\n",
       "      <td>0.000000</td>\n",
       "      <td>0.000000</td>\n",
       "      <td>0.000000</td>\n",
       "      <td>0.000000</td>\n",
       "      <td>0.000000</td>\n",
       "      <td>0.000000</td>\n",
       "      <td>4.000000</td>\n",
       "      <td>0.160000</td>\n",
       "    </tr>\n",
       "    <tr>\n",
       "      <th>25%</th>\n",
       "      <td>19.250000</td>\n",
       "      <td>0.000000</td>\n",
       "      <td>8.000000</td>\n",
       "      <td>6.000000</td>\n",
       "      <td>2.000000</td>\n",
       "      <td>0.000000</td>\n",
       "      <td>0.000000</td>\n",
       "      <td>3.000000</td>\n",
       "      <td>4.000000</td>\n",
       "      <td>1.000000</td>\n",
       "      <td>2.000000</td>\n",
       "      <td>11.000000</td>\n",
       "      <td>0.440000</td>\n",
       "    </tr>\n",
       "    <tr>\n",
       "      <th>50%</th>\n",
       "      <td>20.000000</td>\n",
       "      <td>0.000000</td>\n",
       "      <td>12.000000</td>\n",
       "      <td>10.000000</td>\n",
       "      <td>3.000000</td>\n",
       "      <td>0.000000</td>\n",
       "      <td>1.000000</td>\n",
       "      <td>4.000000</td>\n",
       "      <td>5.000000</td>\n",
       "      <td>2.000000</td>\n",
       "      <td>3.000000</td>\n",
       "      <td>14.000000</td>\n",
       "      <td>0.560000</td>\n",
       "    </tr>\n",
       "    <tr>\n",
       "      <th>75%</th>\n",
       "      <td>21.000000</td>\n",
       "      <td>1.000000</td>\n",
       "      <td>16.750000</td>\n",
       "      <td>13.750000</td>\n",
       "      <td>5.000000</td>\n",
       "      <td>1.000000</td>\n",
       "      <td>1.000000</td>\n",
       "      <td>5.000000</td>\n",
       "      <td>6.750000</td>\n",
       "      <td>2.000000</td>\n",
       "      <td>3.000000</td>\n",
       "      <td>16.000000</td>\n",
       "      <td>0.640000</td>\n",
       "    </tr>\n",
       "    <tr>\n",
       "      <th>max</th>\n",
       "      <td>27.000000</td>\n",
       "      <td>1.000000</td>\n",
       "      <td>24.000000</td>\n",
       "      <td>24.000000</td>\n",
       "      <td>12.000000</td>\n",
       "      <td>1.000000</td>\n",
       "      <td>1.000000</td>\n",
       "      <td>6.000000</td>\n",
       "      <td>9.000000</td>\n",
       "      <td>4.000000</td>\n",
       "      <td>5.000000</td>\n",
       "      <td>22.000000</td>\n",
       "      <td>0.880000</td>\n",
       "    </tr>\n",
       "  </tbody>\n",
       "</table>\n",
       "</div>"
      ],
      "text/plain": [
       "              AGE    GUIDANCE  FAMILY_SCORE  PEER_SCORE  \\\n",
       "count  118.000000  118.000000    118.000000  118.000000   \n",
       "mean    20.330508    0.330508     12.127119   10.211864   \n",
       "std      1.496749    0.472402      6.174869    5.906467   \n",
       "min     16.000000    0.000000      0.000000    0.000000   \n",
       "25%     19.250000    0.000000      8.000000    6.000000   \n",
       "50%     20.000000    0.000000     12.000000   10.000000   \n",
       "75%     21.000000    1.000000     16.750000   13.750000   \n",
       "max     27.000000    1.000000     24.000000   24.000000   \n",
       "\n",
       "       PERSONAL_INVESTMENT_SCORE  INV_GUIDE_EXPERTS  EMERG_FUND  \\\n",
       "count                 118.000000         118.000000  118.000000   \n",
       "mean                    3.533898           0.347458    0.601695   \n",
       "std                     2.319307           0.478193    0.491637   \n",
       "min                     0.000000           0.000000    0.000000   \n",
       "25%                     2.000000           0.000000    0.000000   \n",
       "50%                     3.000000           0.000000    1.000000   \n",
       "75%                     5.000000           1.000000    1.000000   \n",
       "max                    12.000000           1.000000    1.000000   \n",
       "\n",
       "       GEN_PER_FIN_SCORE   SAV_SCORE  INSUR_SCORE   INV_SCORE  TOTAL_SCORE  \\\n",
       "count         118.000000  118.000000   118.000000  118.000000   118.000000   \n",
       "mean            3.932203    5.211864     1.703390    2.576271    13.423729   \n",
       "std             1.412574    1.875855     1.015347    1.081363     3.738016   \n",
       "min             0.000000    0.000000     0.000000    0.000000     4.000000   \n",
       "25%             3.000000    4.000000     1.000000    2.000000    11.000000   \n",
       "50%             4.000000    5.000000     2.000000    3.000000    14.000000   \n",
       "75%             5.000000    6.750000     2.000000    3.000000    16.000000   \n",
       "max             6.000000    9.000000     4.000000    5.000000    22.000000   \n",
       "\n",
       "       PERCENT_SCORE  \n",
       "count     118.000000  \n",
       "mean        0.536949  \n",
       "std         0.149521  \n",
       "min         0.160000  \n",
       "25%         0.440000  \n",
       "50%         0.560000  \n",
       "75%         0.640000  \n",
       "max         0.880000  "
      ]
     },
     "execution_count": 3,
     "metadata": {},
     "output_type": "execute_result"
    }
   ],
   "source": [
    "sdf.describe()"
   ]
  },
  {
   "cell_type": "markdown",
   "id": "4c8d9e6a",
   "metadata": {},
   "source": [
    "Features : {Family Score, Peer Score, Personal Investment Score}\n",
    "\n",
    "Label : {1 = high - Percent Score>Median(Percent Score); 0 = low - Percent Score>Median(Percent Score)}"
   ]
  },
  {
   "cell_type": "code",
   "execution_count": 4,
   "id": "92fec570",
   "metadata": {},
   "outputs": [
    {
     "name": "stderr",
     "output_type": "stream",
     "text": [
      "C:\\Users\\Insha\\AppData\\Local\\Temp\\ipykernel_19980\\1829190497.py:1: SettingWithCopyWarning: \n",
      "A value is trying to be set on a copy of a slice from a DataFrame.\n",
      "Try using .loc[row_indexer,col_indexer] = value instead\n",
      "\n",
      "See the caveats in the documentation: https://pandas.pydata.org/pandas-docs/stable/user_guide/indexing.html#returning-a-view-versus-a-copy\n",
      "  sdf['LabelPercentScore'] = np.where(sdf.PERCENT_SCORE >= 0.56, 1, 0)\n"
     ]
    }
   ],
   "source": [
    "sdf['LabelPercentScore'] = np.where(sdf.PERCENT_SCORE >= 0.56, 1, 0)"
   ]
  },
  {
   "cell_type": "code",
   "execution_count": 5,
   "id": "5eac6ab2",
   "metadata": {},
   "outputs": [],
   "source": [
    "#Create Logistic Regression dataframe\n",
    "log_df = sdf[['FAMILY_SCORE','PEER_SCORE','PERSONAL_INVESTMENT_SCORE','LabelPercentScore']]"
   ]
  },
  {
   "cell_type": "code",
   "execution_count": 6,
   "id": "0c186442",
   "metadata": {},
   "outputs": [],
   "source": [
    "X = log_df.iloc[:, :-1].values\n",
    "y = log_df.iloc[:, -1].values"
   ]
  },
  {
   "cell_type": "markdown",
   "id": "79821b7c",
   "metadata": {},
   "source": [
    "### Splitting the dataset into the Training set and Test set"
   ]
  },
  {
   "cell_type": "code",
   "execution_count": 7,
   "id": "001e9dea",
   "metadata": {},
   "outputs": [],
   "source": [
    "from sklearn.model_selection import train_test_split\n",
    "X_train, X_test, y_train, y_test = train_test_split(X,y, test_size = 0.2, random_state = 4)"
   ]
  },
  {
   "cell_type": "markdown",
   "id": "c08acf5a",
   "metadata": {},
   "source": [
    "### Feature Scaling"
   ]
  },
  {
   "cell_type": "code",
   "execution_count": 8,
   "id": "3b65574d",
   "metadata": {},
   "outputs": [],
   "source": [
    "from sklearn.preprocessing import StandardScaler\n",
    "sc = StandardScaler()\n",
    "X_train = sc.fit_transform(X_train)\n",
    "X_test = sc.transform(X_test)"
   ]
  },
  {
   "cell_type": "markdown",
   "id": "b3500607",
   "metadata": {},
   "source": [
    "## Training the Logistic Regression model on the Training set"
   ]
  },
  {
   "cell_type": "code",
   "execution_count": 9,
   "id": "8a6be7ed",
   "metadata": {},
   "outputs": [
    {
     "data": {
      "text/plain": [
       "LogisticRegression(random_state=4)"
      ]
     },
     "execution_count": 9,
     "metadata": {},
     "output_type": "execute_result"
    }
   ],
   "source": [
    "from sklearn.linear_model import LogisticRegression\n",
    "classifier = LogisticRegression(random_state = 4)\n",
    "classifier.fit(X_train, y_train)"
   ]
  },
  {
   "cell_type": "markdown",
   "id": "2b9d5f65",
   "metadata": {},
   "source": [
    "### Create a confusion matrix and getting the accuracy score"
   ]
  },
  {
   "cell_type": "code",
   "execution_count": 12,
   "id": "d536e1fb",
   "metadata": {},
   "outputs": [
    {
     "name": "stdout",
     "output_type": "stream",
     "text": [
      "[[ 4  3]\n",
      " [ 1 16]]\n",
      "0.8333333333333334\n",
      "              precision    recall  f1-score   support\n",
      "\n",
      "           0       0.80      0.57      0.67         7\n",
      "           1       0.84      0.94      0.89        17\n",
      "\n",
      "    accuracy                           0.83        24\n",
      "   macro avg       0.82      0.76      0.78        24\n",
      "weighted avg       0.83      0.83      0.82        24\n",
      "\n"
     ]
    }
   ],
   "source": [
    "from sklearn.metrics import confusion_matrix, accuracy_score, classification_report, roc_curve, roc_auc_score\n",
    "\n",
    "y_pred = classifier.predict(X_test)\n",
    "\n",
    "cm = confusion_matrix(y_test, y_pred)\n",
    "print(cm)\n",
    "\n",
    "print(accuracy_score(y_test, y_pred))\n",
    "\n",
    "print(classification_report(y_test, y_pred))"
   ]
  },
  {
   "cell_type": "code",
   "execution_count": 11,
   "id": "b86c4ea6",
   "metadata": {},
   "outputs": [
    {
     "data": {
      "image/png": "[encoded data removed]",
      "text/plain": [
       "<Figure size 432x288 with 1 Axes>"
      ]
     },
     "metadata": {},
     "output_type": "display_data"
    }
   ],
   "source": [
    "#ROC CURVE\n",
    "\n",
    "y_pred_proba = classifier.predict_proba(X_test)[:,-1]\n",
    "deg_line = np.linspace(start = 0.0, stop = 1.0)\n",
    "fpr, tpr, _ = roc_curve(y_test, y_pred_proba)\n",
    "auc = roc_auc_score(y_test, y_pred_proba)\n",
    "\n",
    "sns.set_theme(style = \"whitegrid\", rc= {\"axes.facecolor\": \".9\",'grid.linewidth': 0.1})\n",
    "plt.plot(fpr,tpr, color = \"black\", label=\"AUC=\"+str(auc))\n",
    "plt.plot(deg_line, deg_line, linestyle = '--')\n",
    "plt.title('ROC Curve')\n",
    "plt.ylabel('True Positive Rate')\n",
    "plt.xlabel('False Positive Rate')\n",
    "plt.legend(loc=4)\n",
    "plt.show()"
   ]
  }
 ],
 "metadata": {
  "kernelspec": {
   "display_name": "Python 3 (ipykernel)",
   "language": "python",
   "name": "python3"
  },
  "language_info": {
   "codemirror_mode": {
    "name": "ipython",
    "version": 3
   },
   "file_extension": ".py",
   "mimetype": "text/x-python",
   "name": "python",
   "nbconvert_exporter": "python",
   "pygments_lexer": "ipython3",
   "version": "3.9.12"
  }
 },
 "nbformat": 4,
 "nbformat_minor": 5
}
